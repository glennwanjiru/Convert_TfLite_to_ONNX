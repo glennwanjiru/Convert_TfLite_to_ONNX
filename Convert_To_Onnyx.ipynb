{
  "nbformat": 4,
  "nbformat_minor": 0,
  "metadata": {
    "colab": {
      "provenance": [],
      "authorship_tag": "ABX9TyPgWNq/t25wKzFa5ZgpvbqX",
      "include_colab_link": true
    },
    "kernelspec": {
      "name": "python3",
      "display_name": "Python 3"
    },
    "language_info": {
      "name": "python"
    }
  },
  "cells": [
    {
      "cell_type": "markdown",
      "metadata": {
        "id": "view-in-github",
        "colab_type": "text"
      },
      "source": [
        "<a href=\"https://colab.research.google.com/github/glennwanjiru/Convert_TfLite_to_ONNX/blob/main/Convert_To_Onnyx.ipynb\" target=\"_parent\"><img src=\"https://colab.research.google.com/assets/colab-badge.svg\" alt=\"Open In Colab\"/></a>"
      ]
    },
    {
      "cell_type": "code",
      "execution_count": null,
      "metadata": {
        "colab": {
          "base_uri": "https://localhost:8080/"
        },
        "id": "-EY4CXqMgiCO",
        "outputId": "db35d516-0d0d-463e-c903-5cb69760e851"
      },
      "outputs": [
        {
          "output_type": "stream",
          "name": "stdout",
          "text": [
            "Requirement already satisfied: tflite2onnx in /usr/local/lib/python3.10/dist-packages (0.4.1)\n",
            "Requirement already satisfied: numpy in /usr/local/lib/python3.10/dist-packages (from tflite2onnx) (1.25.2)\n",
            "Requirement already satisfied: onnx in /usr/local/lib/python3.10/dist-packages (from tflite2onnx) (1.16.0)\n",
            "Requirement already satisfied: tflite>=2.4.0 in /usr/local/lib/python3.10/dist-packages (from tflite2onnx) (2.10.0)\n",
            "Requirement already satisfied: flatbuffers in /usr/local/lib/python3.10/dist-packages (from tflite>=2.4.0->tflite2onnx) (24.3.25)\n",
            "Requirement already satisfied: protobuf>=3.20.2 in /usr/local/lib/python3.10/dist-packages (from onnx->tflite2onnx) (3.20.3)\n"
          ]
        }
      ],
      "source": [
        "\n",
        "!pip install tflite2onnx\n",
        "\n"
      ]
    },
    {
      "cell_type": "code",
      "source": [
        "import tflite2onnx\n",
        "\n",
        "tflite_path = \"/content/MediaPipeFaceLandmarkDetector.tflite\"\n",
        "onnx_path = \"/content/FLconverted_model.onnx\"\n",
        "\n",
        "tflite2onnx.convert(tflite_path, onnx_path)\n",
        "\n"
      ],
      "metadata": {
        "colab": {
          "base_uri": "https://localhost:8080/"
        },
        "id": "jmFgdwXmiRp8",
        "outputId": "734a8991-1374-4598-d2fd-3856b2ff1c6e"
      },
      "execution_count": null,
      "outputs": [
        {
          "output_type": "stream",
          "name": "stderr",
          "text": [
            "WARNING:tflite2onnx:Transforming Transpose, doing nothing now...\n"
          ]
        }
      ]
    }
  ]
}